{
 "cells": [
  {
   "cell_type": "code",
   "execution_count": 1,
   "id": "e8276284",
   "metadata": {},
   "outputs": [],
   "source": [
    "# Load necessary modules\n",
    "import cobra\n",
    "import FM as FM\n",
    "from cobrapy_bigg_client import client\n",
    "import multiprocessing as mp\n",
    "cobra.Configuration().solver='gurobi'"
   ]
  },
  {
   "cell_type": "code",
   "execution_count": 2,
   "id": "66de242b",
   "metadata": {},
   "outputs": [
    {
     "name": "stdout",
     "output_type": "stream",
     "text": [
      "Set parameter GURO_PAR_SPECIAL\n",
      "Set parameter TokenServer to value \"ibsen\"\n"
     ]
    }
   ],
   "source": [
    "# Load model\n",
    "identifier=\"iJO1366\"\n",
    "model=cobra.io.web.load.load_model(identifier)"
   ]
  },
  {
   "cell_type": "code",
   "execution_count": 3,
   "id": "6c6b5098",
   "metadata": {},
   "outputs": [],
   "source": [
    "# Set the identifiers of importan reactions\n",
    "biomass=\"BIOMASS_Ec_iJO1366_core_53p95M\"\n",
    "o2=\"EX_o2_e\"\n",
    "ethanol=\"EX_etoh_e\""
   ]
  },
  {
   "cell_type": "code",
   "execution_count": null,
   "id": "b1585cb2",
   "metadata": {
    "scrolled": true
   },
   "outputs": [],
   "source": [
    "# Make a copy of the model\n",
    "modelo=model.copy()\n",
    "\n",
    "# Force the model to work in anaerobic mode\n",
    "modelo.reactions.get_by_id(o2).bounds=[0,0]\n",
    "\n",
    "#Identify the maximum growth\n",
    "maximum=modelo.slim_optimize()\n",
    "\n",
    "# Force the model to have a minimum growth = 0.5 * maximum\n",
    "\n",
    "modelo.reactions.get_by_id(biomass).bounds=[0.1,1000]\n",
    "\n",
    "# Identify genes that are essential for this minimum growth and\n",
    "# remove them from the model \n",
    "gMCSsGrowth=FM.createGMCS(modelo,1)\n",
    "protected=set(g for case in gMCSsGrowth[1] for g in case)\n",
    "cobra.manipulation.delete.remove_genes(modelo,protected,False)\n",
    "\n",
    "# Block the production of ethanol\n",
    "\n",
    "modelo.reactions.get_by_id(ethanol).bounds=[0,0]\n",
    "\n",
    "# Set the maximum length of the gMCSs and compute them\n",
    "maxLength=4\n",
    "gMCSs=FM.createGMCS(modelo,maxLength)"
   ]
  },
  {
   "cell_type": "code",
   "execution_count": 5,
   "id": "18452ad4",
   "metadata": {},
   "outputs": [],
   "source": [
    "# Auxiliar functions to check if a gMCS induces couple growth\n",
    "\n",
    "def analyze(start,end):    \n",
    "    CSs=set()\n",
    "    for caso in myList[start:end]:\n",
    "        with modelo:\n",
    "            for g in caso:\n",
    "                modelo.genes.get_by_id(g).knock_out()\n",
    "            sol=modelo.slim_optimize(error_value=-1)\n",
    "            if not sol==-1:\n",
    "                CSs.add(caso)\n",
    "    return(CSs)\n",
    "\n",
    "def analyze2(start,end):    \n",
    "    CSs=set()\n",
    "    for caso in myList[start:end]:\n",
    "        with modelo:\n",
    "            \n",
    "            for g in caso:\n",
    "                modelo.genes.get_by_id(g).knock_out()\n",
    "            sol=modelo.slim_optimize(error_value=-1)\n",
    "            if sol>0:\n",
    "                CSs.add(caso)\n",
    "    return(CSs)"
   ]
  },
  {
   "cell_type": "code",
   "execution_count": 8,
   "id": "24e61aff",
   "metadata": {
    "scrolled": true
   },
   "outputs": [
    {
     "name": "stdout",
     "output_type": "stream",
     "text": [
      "Read LP format model from file /tmp/tmpjqf0_z55.lp\n",
      "Reading time = 0.01 seconds\n",
      ": 1805 rows, 5166 columns, 20366 nonzeros\n",
      "615\n"
     ]
    }
   ],
   "source": [
    "# Check which GMCSs induce couple growth by checking\n",
    "# 1.- That they do not prevent growth\n",
    "# 2.- After stablishing the addecuate lower bound for growth\n",
    "#     there is a minimum ethanol production\n",
    "\n",
    "modelo=model.copy()\n",
    "modelo.reactions.get_by_id(o2).bounds=[0,0]\n",
    "modelo.reactions.get_by_id(biomass).bounds=[0.1,1000]\n",
    "\n",
    "myList=set()\n",
    "\n",
    "for C in gMCSs:\n",
    "    myList.update(C)\n",
    "myList=list(myList)\n",
    "\n",
    "cpus=64\n",
    "k=0\n",
    "argus=[]\n",
    "num=1000\n",
    "\n",
    "while k*num<=len(myList):\n",
    "    argus.append((k*num,(k+1)*num+1))\n",
    "    k+=1\n",
    "\n",
    "with mp.Pool(processes=cpus) as mp_pool:\n",
    "    results=mp_pool.starmap(analyze,argus)\n",
    "\n",
    "notEssentials=set()\n",
    "for result in results:\n",
    "    notEssentials.update(result)\n",
    "    \n",
    "myList=list(notEssentials)\n",
    "modelo.objective=modelo.reactions.get_by_id(ethanol)\n",
    "modelo.objective_direction=\"min\"\n",
    "cpus=64\n",
    "k=0\n",
    "argus=[]\n",
    "num=1000\n",
    "\n",
    "while k*num<=len(myList):\n",
    "    argus.append((k*num,(k+1)*num+1))\n",
    "    k+=1\n",
    "\n",
    "with mp.Pool(processes=cpus) as mp_pool:\n",
    "    results=mp_pool.starmap(analyze2,argus)\n",
    "\n",
    "Interventions=set()\n",
    "for result in results:\n",
    "    Interventions.update(result)\n",
    "    "
   ]
  },
  {
   "cell_type": "code",
   "execution_count": 9,
   "id": "adadaa82",
   "metadata": {},
   "outputs": [
    {
     "name": "stdout",
     "output_type": "stream",
     "text": [
      "Total of interventions: 67\n",
      "Interventions of length 1 0\n",
      "Interventions of length 2 3\n",
      "Interventions of length 3 64\n"
     ]
    }
   ],
   "source": [
    "print(\"Total of interventions:\",len(Interventions))\n",
    "for i in range(1,maxLength+1):\n",
    "    print(\"Interventions of length\",i,len(set(C for C in Interventions if len(C)==i)))"
   ]
  }
 ],
 "metadata": {
  "kernelspec": {
   "display_name": "Python 3.9",
   "language": "python",
   "name": "python3"
  },
  "language_info": {
   "codemirror_mode": {
    "name": "ipython",
    "version": 3
   },
   "file_extension": ".py",
   "mimetype": "text/x-python",
   "name": "python",
   "nbconvert_exporter": "python",
   "pygments_lexer": "ipython3",
   "version": "3.9.21"
  }
 },
 "nbformat": 4,
 "nbformat_minor": 5
}
