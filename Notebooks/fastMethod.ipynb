{
 "cells": [
  {
   "cell_type": "code",
   "execution_count": 2,
   "id": "e8276284",
   "metadata": {},
   "outputs": [],
   "source": [
    "#Import necessary modules\n",
    "import cobra\n",
    "import FM as FM\n",
    "from cobrapy_bigg_client import client\n",
    "cobra.Configuration().solver='gurobi'"
   ]
  },
  {
   "cell_type": "code",
   "execution_count": 3,
   "id": "7bf6a70a",
   "metadata": {},
   "outputs": [
    {
     "name": "stdout",
     "output_type": "stream",
     "text": [
      "Set parameter GURO_PAR_SPECIAL\n",
      "Set parameter TokenServer to value \"ibsen\"\n"
     ]
    }
   ],
   "source": [
    "# Import model\n",
    "identifier=\"iML1515\"\n",
    "model=cobra.io.web.load.load_model(identifier)"
   ]
  },
  {
   "cell_type": "code",
   "execution_count": 4,
   "id": "165130b3",
   "metadata": {},
   "outputs": [],
   "source": [
    "# Set max length of computed gMCSs\n",
    "maxLength=3"
   ]
  },
  {
   "cell_type": "code",
   "execution_count": 5,
   "id": "037eb5d6",
   "metadata": {},
   "outputs": [],
   "source": [
    "# Compute gMCSs\n",
    "gMCSs=FM.createGMCS(model,maxLength)"
   ]
  },
  {
   "cell_type": "code",
   "execution_count": 6,
   "id": "3e4c4266",
   "metadata": {},
   "outputs": [
    {
     "name": "stdout",
     "output_type": "stream",
     "text": [
      "1 196\n",
      "2 78\n",
      "3 119\n"
     ]
    }
   ],
   "source": [
    "# Show length of gMCSs for any given length\n",
    "for i, C in enumerate(gMCSs):\n",
    "    if i>0:\n",
    "        print(i,len(gMCSs[i]))"
   ]
  },
  {
   "cell_type": "code",
   "execution_count": 8,
   "id": "bf8a7094",
   "metadata": {},
   "outputs": [
    {
     "name": "stdout",
     "output_type": "stream",
     "text": [
      "{'b0092', 'b0381'}\n"
     ]
    }
   ],
   "source": [
    "# Show an gMCS of length 2\n",
    "for gMCS in gMCSs[2]:\n",
    "    print(set(gMCS))\n",
    "    break"
   ]
  }
 ],
 "metadata": {
  "kernelspec": {
   "display_name": "Python 3.9",
   "language": "python",
   "name": "python3"
  },
  "language_info": {
   "codemirror_mode": {
    "name": "ipython",
    "version": 3
   },
   "file_extension": ".py",
   "mimetype": "text/x-python",
   "name": "python",
   "nbconvert_exporter": "python",
   "pygments_lexer": "ipython3",
   "version": "3.9.21"
  }
 },
 "nbformat": 4,
 "nbformat_minor": 5
}
