{
 "cells": [
  {
   "cell_type": "code",
   "execution_count": 1,
   "id": "e8276284",
   "metadata": {},
   "outputs": [],
   "source": [
    "#Import necessary modules\n",
    "import cobra\n",
    "import FM as FM\n",
    "from cobrapy_bigg_client import client\n",
    "cobra.Configuration().solver='gurobi'"
   ]
  },
  {
   "cell_type": "code",
   "execution_count": 2,
   "id": "63880a7e",
   "metadata": {},
   "outputs": [
    {
     "name": "stdout",
     "output_type": "stream",
     "text": [
      "Set parameter GURO_PAR_SPECIAL\n",
      "Set parameter TokenServer to value \"ibsen\"\n"
     ]
    }
   ],
   "source": [
    "# Import model\n",
    "identifier=\"iML1515\"\n",
    "model=cobra.io.web.load.load_model(identifier)"
   ]
  },
  {
   "cell_type": "code",
   "execution_count": null,
   "id": "445e3415",
   "metadata": {},
   "outputs": [],
   "source": [
    "# Set maxLength and compute gMCSs\n",
    "maxLength=4\n",
    "gMCSs=FM.createGMCS(model,maxLength)"
   ]
  },
  {
   "cell_type": "code",
   "execution_count": null,
   "id": "3d3899b8",
   "metadata": {},
   "outputs": [],
   "source": [
    "# Show number of gMCSs computed for each length\n",
    "print(\"gMCSs\")\n",
    "for i,C in enumerate(gMCSs):\n",
    "    print(\"Length\",i,\"gMCSs\",len(C))"
   ]
  }
 ],
 "metadata": {
  "kernelspec": {
   "display_name": "Python 3.9",
   "language": "python",
   "name": "python3"
  },
  "language_info": {
   "codemirror_mode": {
    "name": "ipython",
    "version": 3
   },
   "file_extension": ".py",
   "mimetype": "text/x-python",
   "name": "python",
   "nbconvert_exporter": "python",
   "pygments_lexer": "ipython3",
   "version": "3.9.21"
  }
 },
 "nbformat": 4,
 "nbformat_minor": 5
}
hon",
    "version": 3
   },
   "file_extension": ".py",
   "mimetype": "text/x-python",
   "name": "python",
   "nbconvert_exporter": "python",
   "pygments_lexer": "ipython3",
   "version": "3.9.21"
  }
 },
 "nbformat": 4,
 "nbformat_minor": 5
}
